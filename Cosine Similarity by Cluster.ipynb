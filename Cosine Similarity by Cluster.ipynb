{
 "cells": [
  {
   "cell_type": "code",
   "execution_count": 4,
   "id": "50e323c6",
   "metadata": {},
   "outputs": [],
   "source": [
    "import pandas as pd\n",
    "from sklearn.metrics.pairwise import cosine_distances\n",
    "path=\"C:/Users/datoadmin/bristol/rating-productos.csv\"\n",
    "chunks=pd.read_csv(path,index_col=\"n_cliente\",converters={'n_cliente' : str}, chunksize=5000)"
   ]
  },
  {
   "cell_type": "code",
   "execution_count": 5,
   "id": "9dcef243",
   "metadata": {},
   "outputs": [],
   "source": [
    "def convert_to_sparse_pandas(df, exclude_columns=[]):\n",
    "    \"\"\"\n",
    "    Converts columns of a data frame into SparseArrays and returns the data frame with transformed columns.\n",
    "    Use exclude_columns to specify columns to be excluded from transformation.\n",
    "    :param df: pandas data frame\n",
    "    :param exclude_columns: list\n",
    "        Columns not be converted to sparse\n",
    "    :return: pandas data frame\n",
    "    \"\"\"\n",
    "    exclude_columns = set(exclude_columns)\n",
    "\n",
    "    for (columnName, columnData) in df.iteritems():\n",
    "        if columnName in exclude_columns:\n",
    "            continue\n",
    "        df[columnName] = pd.SparseArray(columnData.values, dtype='float64')\n",
    "\n",
    "    return df"
   ]
  },
  {
   "cell_type": "code",
   "execution_count": 11,
   "id": "ce621fd2",
   "metadata": {},
   "outputs": [
    {
     "ename": "ValueError",
     "evalue": "No objects to concatenate",
     "output_type": "error",
     "traceback": [
      "\u001b[1;31m---------------------------------------------------------------------------\u001b[0m",
      "\u001b[1;31mValueError\u001b[0m                                Traceback (most recent call last)",
      "\u001b[1;32mC:\\Users\\DATOAD~1\\AppData\\Local\\Temp/ipykernel_18880/3612021694.py\u001b[0m in \u001b[0;36m<module>\u001b[1;34m\u001b[0m\n\u001b[1;32m----> 1\u001b[1;33m \u001b[0mdf\u001b[0m \u001b[1;33m=\u001b[0m \u001b[0mpd\u001b[0m\u001b[1;33m.\u001b[0m\u001b[0mconcat\u001b[0m\u001b[1;33m(\u001b[0m \u001b[1;33m[\u001b[0m \u001b[0mconvert_to_sparse_pandas\u001b[0m\u001b[1;33m(\u001b[0m\u001b[0mchunk\u001b[0m\u001b[1;33m,\u001b[0m\u001b[0mexclude_columns\u001b[0m\u001b[1;33m=\u001b[0m\u001b[1;33m[\u001b[0m\u001b[1;34m\"Cluster_Cuantitativo\"\u001b[0m\u001b[1;33m]\u001b[0m\u001b[1;33m)\u001b[0m \u001b[1;32mfor\u001b[0m \u001b[0mchunk\u001b[0m \u001b[1;32min\u001b[0m \u001b[0mchunks\u001b[0m \u001b[1;33m]\u001b[0m \u001b[1;33m)\u001b[0m\u001b[1;33m\u001b[0m\u001b[1;33m\u001b[0m\u001b[0m\n\u001b[0m",
      "\u001b[1;32m~\\anaconda3\\lib\\site-packages\\pandas\\util\\_decorators.py\u001b[0m in \u001b[0;36mwrapper\u001b[1;34m(*args, **kwargs)\u001b[0m\n\u001b[0;32m    309\u001b[0m                     \u001b[0mstacklevel\u001b[0m\u001b[1;33m=\u001b[0m\u001b[0mstacklevel\u001b[0m\u001b[1;33m,\u001b[0m\u001b[1;33m\u001b[0m\u001b[1;33m\u001b[0m\u001b[0m\n\u001b[0;32m    310\u001b[0m                 )\n\u001b[1;32m--> 311\u001b[1;33m             \u001b[1;32mreturn\u001b[0m \u001b[0mfunc\u001b[0m\u001b[1;33m(\u001b[0m\u001b[1;33m*\u001b[0m\u001b[0margs\u001b[0m\u001b[1;33m,\u001b[0m \u001b[1;33m**\u001b[0m\u001b[0mkwargs\u001b[0m\u001b[1;33m)\u001b[0m\u001b[1;33m\u001b[0m\u001b[1;33m\u001b[0m\u001b[0m\n\u001b[0m\u001b[0;32m    312\u001b[0m \u001b[1;33m\u001b[0m\u001b[0m\n\u001b[0;32m    313\u001b[0m         \u001b[1;32mreturn\u001b[0m \u001b[0mwrapper\u001b[0m\u001b[1;33m\u001b[0m\u001b[1;33m\u001b[0m\u001b[0m\n",
      "\u001b[1;32m~\\anaconda3\\lib\\site-packages\\pandas\\core\\reshape\\concat.py\u001b[0m in \u001b[0;36mconcat\u001b[1;34m(objs, axis, join, ignore_index, keys, levels, names, verify_integrity, sort, copy)\u001b[0m\n\u001b[0;32m    292\u001b[0m     \u001b[0mValueError\u001b[0m\u001b[1;33m:\u001b[0m \u001b[0mIndexes\u001b[0m \u001b[0mhave\u001b[0m \u001b[0moverlapping\u001b[0m \u001b[0mvalues\u001b[0m\u001b[1;33m:\u001b[0m \u001b[1;33m[\u001b[0m\u001b[1;34m'a'\u001b[0m\u001b[1;33m]\u001b[0m\u001b[1;33m\u001b[0m\u001b[1;33m\u001b[0m\u001b[0m\n\u001b[0;32m    293\u001b[0m     \"\"\"\n\u001b[1;32m--> 294\u001b[1;33m     op = _Concatenator(\n\u001b[0m\u001b[0;32m    295\u001b[0m         \u001b[0mobjs\u001b[0m\u001b[1;33m,\u001b[0m\u001b[1;33m\u001b[0m\u001b[1;33m\u001b[0m\u001b[0m\n\u001b[0;32m    296\u001b[0m         \u001b[0maxis\u001b[0m\u001b[1;33m=\u001b[0m\u001b[0maxis\u001b[0m\u001b[1;33m,\u001b[0m\u001b[1;33m\u001b[0m\u001b[1;33m\u001b[0m\u001b[0m\n",
      "\u001b[1;32m~\\anaconda3\\lib\\site-packages\\pandas\\core\\reshape\\concat.py\u001b[0m in \u001b[0;36m__init__\u001b[1;34m(self, objs, axis, join, keys, levels, names, ignore_index, verify_integrity, copy, sort)\u001b[0m\n\u001b[0;32m    349\u001b[0m \u001b[1;33m\u001b[0m\u001b[0m\n\u001b[0;32m    350\u001b[0m         \u001b[1;32mif\u001b[0m \u001b[0mlen\u001b[0m\u001b[1;33m(\u001b[0m\u001b[0mobjs\u001b[0m\u001b[1;33m)\u001b[0m \u001b[1;33m==\u001b[0m \u001b[1;36m0\u001b[0m\u001b[1;33m:\u001b[0m\u001b[1;33m\u001b[0m\u001b[1;33m\u001b[0m\u001b[0m\n\u001b[1;32m--> 351\u001b[1;33m             \u001b[1;32mraise\u001b[0m \u001b[0mValueError\u001b[0m\u001b[1;33m(\u001b[0m\u001b[1;34m\"No objects to concatenate\"\u001b[0m\u001b[1;33m)\u001b[0m\u001b[1;33m\u001b[0m\u001b[1;33m\u001b[0m\u001b[0m\n\u001b[0m\u001b[0;32m    352\u001b[0m \u001b[1;33m\u001b[0m\u001b[0m\n\u001b[0;32m    353\u001b[0m         \u001b[1;32mif\u001b[0m \u001b[0mkeys\u001b[0m \u001b[1;32mis\u001b[0m \u001b[1;32mNone\u001b[0m\u001b[1;33m:\u001b[0m\u001b[1;33m\u001b[0m\u001b[1;33m\u001b[0m\u001b[0m\n",
      "\u001b[1;31mValueError\u001b[0m: No objects to concatenate"
     ]
    }
   ],
   "source": [
    "df = pd.concat( [ convert_to_sparse_pandas(chunk,exclude_columns=[\"n_cliente\",\"Cluster_Cuantitativo\"]) for chunk in chunks ] )\n"
   ]
  },
  {
   "cell_type": "code",
   "execution_count": 13,
   "id": "f853009d",
   "metadata": {},
   "outputs": [
    {
     "data": {
      "text/plain": [
       "(63218, 4393)"
      ]
     },
     "execution_count": 13,
     "metadata": {},
     "output_type": "execute_result"
    }
   ],
   "source": [
    "df.shape"
   ]
  },
  {
   "cell_type": "code",
   "execution_count": 15,
   "id": "73c659d8",
   "metadata": {},
   "outputs": [
    {
     "name": "stdout",
     "output_type": "stream",
     "text": [
      "cluster_0\n",
      "(4434, 4393)\n",
      "cluster_1\n",
      "(3530, 4393)\n",
      "cluster_10\n",
      "(2499, 4393)\n",
      "cluster_11\n",
      "(2421, 4393)\n",
      "cluster_12\n",
      "(1092, 4393)\n",
      "cluster_13\n",
      "(3497, 4393)\n",
      "cluster_14\n",
      "(2135, 4393)\n",
      "cluster_15\n",
      "(2710, 4393)\n",
      "cluster_16\n",
      "(6782, 4393)\n",
      "cluster_17\n",
      "(3650, 4393)\n",
      "cluster_18\n",
      "(4173, 4393)\n",
      "cluster_19\n",
      "(2982, 4393)\n",
      "cluster_2\n",
      "(1988, 4393)\n",
      "cluster_3\n",
      "(2003, 4393)\n",
      "cluster_4\n",
      "(1116, 4393)\n",
      "cluster_5\n",
      "(2543, 4393)\n",
      "cluster_6\n",
      "(3849, 4393)\n",
      "cluster_7\n",
      "(4632, 4393)\n",
      "cluster_8\n",
      "(2662, 4393)\n",
      "cluster_9\n",
      "(4520, 4393)\n"
     ]
    }
   ],
   "source": [
    "path_write=\"C:/Users/datoadmin/bristol/\"\n",
    "cluster_group = df.groupby(\"Cluster_Cuantitativo\")\n",
    "for cluster, rows in cluster_group:\n",
    "    print(cluster)\n",
    "    print(rows.shape)\n",
    "    df_cluster=rows.drop(['Cluster_Cuantitativo'], axis=1)\n",
    "    b=pd.DataFrame(cosine_distances(df_cluster),index=df_cluster.index,columns=df_cluster.index)\n",
    "    b.to_csv(path_write+cluster+\".csv\")\n"
   ]
  },
  {
   "cell_type": "code",
   "execution_count": null,
   "id": "384f494f",
   "metadata": {},
   "outputs": [],
   "source": [
    "# path_write=\"C:/Users/datoadmin/bristol/py-distance-cosine.xlsx\"\n",
    "# cluster_group = df.groupby(\"Cluster_Cuantitativo\")\n",
    "# with pd.ExcelWriter(path_write) as writer:\n",
    "#     for cluster, rows in cluster_group:\n",
    "#         print(cluster)\n",
    "#         print(rows.shape)\n",
    "#         df_cluster=rows.drop(['Cluster_Cuantitativo'], axis=1)\n",
    "#         b=pd.DataFrame(cosine_distances(df_cluster),index=df_cluster.index,columns=df_cluster.index)\n",
    "#         b.to_excel(writer,sheet_name=cluster)\n"
   ]
  },
  {
   "cell_type": "code",
   "execution_count": null,
   "id": "ba543888",
   "metadata": {},
   "outputs": [],
   "source": [
    "path_write=\"C:/Users/datoadmin/bristol/\"\n",
    "for index,df in enumerate(chunks):\n",
    "    print(\"---------------\")\n",
    "    print(\"Chunk \",index, \" shape \", df.shape)\n",
    "    print(\"---------------\")\n",
    "    cluster_group = df.groupby(\"Cluster_Cuantitativo\")\n",
    "    for cluster, rows in cluster_group:\n",
    "        print(cluster)\n",
    "        print(rows.shape)\n",
    "        df_cluster=rows.drop(['Cluster_Cuantitativo'], axis=1)\n",
    "        b=pd.DataFrame(cosine_distances(df_cluster),index=df_cluster.index,columns=df_cluster.index)\n",
    "        if(index == 0):\n",
    "            b.to_csv(path_write+cluster+\".csv\",mode='w',header=True)\n",
    "        else:\n",
    "            b.to_csv(path_write+cluster+\".csv\",mode='a',header=False)\n"
   ]
  },
  {
   "cell_type": "code",
   "execution_count": null,
   "id": "d03dc760",
   "metadata": {},
   "outputs": [],
   "source": []
  }
 ],
 "metadata": {
  "kernelspec": {
   "display_name": "Python 3 (ipykernel)",
   "language": "python",
   "name": "python3"
  },
  "language_info": {
   "codemirror_mode": {
    "name": "ipython",
    "version": 3
   },
   "file_extension": ".py",
   "mimetype": "text/x-python",
   "name": "python",
   "nbconvert_exporter": "python",
   "pygments_lexer": "ipython3",
   "version": "3.9.7"
  }
 },
 "nbformat": 4,
 "nbformat_minor": 5
}
